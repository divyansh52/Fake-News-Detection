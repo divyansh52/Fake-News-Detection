{
 "cells": [
  {
   "cell_type": "code",
   "execution_count": 1,
   "metadata": {},
   "outputs": [],
   "source": [
    "import pandas as pd"
   ]
  },
  {
   "cell_type": "code",
   "execution_count": 2,
   "metadata": {},
   "outputs": [],
   "source": [
    "df = pd.read_csv(\"news_dataset.csv\")"
   ]
  },
  {
   "cell_type": "code",
   "execution_count": 3,
   "metadata": {},
   "outputs": [
    {
     "name": "stdout",
     "output_type": "stream",
     "text": [
      "Shape of dataframe:\n",
      "(28711, 5)\n",
      "Unique labels in dataframe:\n",
      "['fake' 'real']\n"
     ]
    }
   ],
   "source": [
    "print(\"Shape of dataframe:\")\n",
    "print (df.shape)\n",
    "\n",
    "print(\"Unique labels in dataframe:\")\n",
    "print (df.label.unique())\n",
    "\n"
   ]
  },
  {
   "cell_type": "code",
   "execution_count": 4,
   "metadata": {},
   "outputs": [],
   "source": [
    "#Extract only the content and label column from dataframe\n",
    "out_cols = [2, 4]\n",
    "\n",
    "df.iloc[:,out_cols].to_csv('fake_and_real_news.csv')\n"
   ]
  },
  {
   "cell_type": "code",
   "execution_count": 5,
   "metadata": {},
   "outputs": [],
   "source": [
    "df_final = pd.read_csv('fake_and_real_news.csv')"
   ]
  },
  {
   "cell_type": "code",
   "execution_count": 6,
   "metadata": {},
   "outputs": [
    {
     "name": "stdout",
     "output_type": "stream",
     "text": [
      "(28711, 3)\n"
     ]
    }
   ],
   "source": [
    "print(df_final.shape)"
   ]
  },
  {
   "cell_type": "code",
   "execution_count": 7,
   "metadata": {},
   "outputs": [
    {
     "name": "stdout",
     "output_type": "stream",
     "text": [
      "   Unnamed: 0                                            content label\n",
      "0           0  Print They should pay all the back all the mon...  fake\n",
      "1           1  Why Did Attorney General Loretta Lynch Plead T...  fake\n",
      "2           2  Red State : \\nFox News Sunday reported this mo...  fake\n",
      "3           3  Email Kayla Mueller was a prisoner and torture...  fake\n",
      "4           4  Email HEALTHCARE REFORM TO MAKE AMERICA GREAT ...  fake\n"
     ]
    }
   ],
   "source": [
    "print(df_final.head())"
   ]
  },
  {
   "cell_type": "code",
   "execution_count": 8,
   "metadata": {},
   "outputs": [
    {
     "name": "stdout",
     "output_type": "stream",
     "text": [
      "   Unnamed: 0                                            content label\n",
      "0        7547  Politics Donald Trump, the Republican candidat...  fake\n",
      "1        6221  Comment \\nMelania Trump may have made her home...  fake\n",
      "2       24795   A vehicle shielded with metal plates and driv...  real\n",
      "3        7295  3 комментариев 16 поделились Фото: AP \\nНапомн...  fake\n",
      "4       17152  American food has a reputation for being bland...  real\n"
     ]
    }
   ],
   "source": [
    "# The dataframe consists of the label false first and then the label true. So first step is to shuffle the data so that labels get shuffled\n",
    "df_final = df_final.sample(frac=1).reset_index(drop=True)\n",
    "print(df_final.head())"
   ]
  },
  {
   "cell_type": "code",
   "execution_count": 10,
   "metadata": {},
   "outputs": [
    {
     "name": "stdout",
     "output_type": "stream",
     "text": [
      "0        fake\n",
      "1        fake\n",
      "2        real\n",
      "3        fake\n",
      "4        real\n",
      "5        real\n",
      "6        real\n",
      "7        real\n",
      "8        real\n",
      "9        real\n",
      "10       real\n",
      "11       real\n",
      "12       fake\n",
      "13       real\n",
      "14       fake\n",
      "15       fake\n",
      "16       real\n",
      "17       fake\n",
      "18       real\n",
      "19       real\n",
      "20       real\n",
      "21       real\n",
      "22       real\n",
      "23       fake\n",
      "24       real\n",
      "25       real\n",
      "26       fake\n",
      "27       fake\n",
      "28       fake\n",
      "29       real\n",
      "         ... \n",
      "28681    real\n",
      "28682    fake\n",
      "28683    real\n",
      "28684    real\n",
      "28685    fake\n",
      "28686    real\n",
      "28687    fake\n",
      "28688    real\n",
      "28689    real\n",
      "28690    fake\n",
      "28691    real\n",
      "28692    real\n",
      "28693    fake\n",
      "28694    real\n",
      "28695    fake\n",
      "28696    fake\n",
      "28697    fake\n",
      "28698    fake\n",
      "28699    real\n",
      "28700    fake\n",
      "28701    fake\n",
      "28702    fake\n",
      "28703    real\n",
      "28704    real\n",
      "28705    fake\n",
      "28706    fake\n",
      "28707    real\n",
      "28708    real\n",
      "28709    fake\n",
      "28710    real\n",
      "Name: label, Length: 28711, dtype: object\n"
     ]
    }
   ],
   "source": [
    "#Check if the labels are now shuffled\n",
    "y = df_final['label']\n",
    "print(y)"
   ]
  },
  {
   "cell_type": "code",
   "execution_count": 11,
   "metadata": {},
   "outputs": [],
   "source": [
    "df_final.to_csv(\"Real_and_Fake_News_Dataset\")"
   ]
  },
  {
   "cell_type": "code",
   "execution_count": 13,
   "metadata": {},
   "outputs": [],
   "source": [
    "df_rf = pd.read_csv(\"Real_and_Fake_News_Dataset\")"
   ]
  },
  {
   "cell_type": "code",
   "execution_count": 14,
   "metadata": {},
   "outputs": [
    {
     "name": "stdout",
     "output_type": "stream",
     "text": [
      "   Unnamed: 0  Unnamed: 0.1  \\\n",
      "0           0          7547   \n",
      "1           1          6221   \n",
      "2           2         24795   \n",
      "3           3          7295   \n",
      "4           4         17152   \n",
      "\n",
      "                                             content label  \n",
      "0  Politics Donald Trump, the Republican candidat...  fake  \n",
      "1  Comment \\nMelania Trump may have made her home...  fake  \n",
      "2   A vehicle shielded with metal plates and driv...  real  \n",
      "3  3 комментариев 16 поделились Фото: AP \\nНапомн...  fake  \n",
      "4  American food has a reputation for being bland...  real  \n"
     ]
    }
   ],
   "source": [
    "print(df_rf.head())"
   ]
  },
  {
   "cell_type": "code",
   "execution_count": 15,
   "metadata": {},
   "outputs": [
    {
     "name": "stdout",
     "output_type": "stream",
     "text": [
      "(28711, 4)\n"
     ]
    }
   ],
   "source": [
    "print(df_rf.shape)"
   ]
  },
  {
   "cell_type": "code",
   "execution_count": 16,
   "metadata": {},
   "outputs": [],
   "source": [
    "#Extract only the content and label column from dataframe\n",
    "out_cols = [2, 3]\n",
    "\n",
    "df_rf.iloc[:,out_cols].to_csv('Real_and_Fake_News_Dataset')\n"
   ]
  },
  {
   "cell_type": "code",
   "execution_count": 17,
   "metadata": {},
   "outputs": [],
   "source": [
    "df_rfd = pd.read_csv('Real_and_Fake_News_Dataset')"
   ]
  },
  {
   "cell_type": "code",
   "execution_count": 18,
   "metadata": {},
   "outputs": [
    {
     "name": "stdout",
     "output_type": "stream",
     "text": [
      "(28711, 3)\n"
     ]
    }
   ],
   "source": [
    "print(df_rfd.shape)"
   ]
  },
  {
   "cell_type": "code",
   "execution_count": 19,
   "metadata": {},
   "outputs": [
    {
     "name": "stdout",
     "output_type": "stream",
     "text": [
      "   Unnamed: 0                                            content label\n",
      "0           0  Politics Donald Trump, the Republican candidat...  fake\n",
      "1           1  Comment \\nMelania Trump may have made her home...  fake\n",
      "2           2   A vehicle shielded with metal plates and driv...  real\n",
      "3           3  3 комментариев 16 поделились Фото: AP \\nНапомн...  fake\n",
      "4           4  American food has a reputation for being bland...  real\n"
     ]
    }
   ],
   "source": [
    "print(df_rfd.head())"
   ]
  },
  {
   "cell_type": "code",
   "execution_count": null,
   "metadata": {},
   "outputs": [],
   "source": []
  }
 ],
 "metadata": {
  "kernelspec": {
   "display_name": "Python 3",
   "language": "python",
   "name": "python3"
  },
  "language_info": {
   "codemirror_mode": {
    "name": "ipython",
    "version": 3
   },
   "file_extension": ".py",
   "mimetype": "text/x-python",
   "name": "python",
   "nbconvert_exporter": "python",
   "pygments_lexer": "ipython3",
   "version": "3.7.3"
  }
 },
 "nbformat": 4,
 "nbformat_minor": 2
}
