{
 "cells": [
  {
   "cell_type": "code",
   "execution_count": 1,
   "metadata": {},
   "outputs": [],
   "source": [
    "import pickle\n",
    "import numpy as np\n",
    "from sklearn.feature_extraction.text import CountVectorizer\n",
    "from sklearn.model_selection import train_test_split\n",
    "import pandas as pd"
   ]
  },
  {
   "cell_type": "code",
   "execution_count": 12,
   "metadata": {},
   "outputs": [
    {
     "name": "stdout",
     "output_type": "stream",
     "text": [
      "Please enter the news text you want to verify: load_model = pickle.load(open('final_model.sav', 'rb')) ModuleNotFoundError: No module named 'sklearn.linear_model._logistic'\n",
      "You entered: load_model = pickle.load(open('final_model.sav', 'rb')) ModuleNotFoundError: No module named 'sklearn.linear_model._logistic'\n",
      "['fake']\n",
      "The given statement is  fake\n",
      "The truth probability score is  0.03107845564675644\n"
     ]
    },
    {
     "data": {
      "text/plain": [
       "(None, None)"
      ]
     },
     "execution_count": 12,
     "metadata": {},
     "output_type": "execute_result"
    }
   ],
   "source": [
    "news = input(\"Please enter the news text you want to verify: \")\n",
    "print(\"You entered: \" + str(news))\n",
    "\n",
    "df = pd.read_csv(\"Real_and_Fake_News_Dataset\")\n",
    "\n",
    "df.dropna(subset = [\"content\"], inplace=True)\n",
    "\n",
    "y=df.label\n",
    "\n",
    "X_train, X_test, y_train, y_test = train_test_split(df['content'],y,test_size = 0.30)\n",
    "\n",
    "count_vectorizer = CountVectorizer(stop_words=\"english\")\n",
    "\n",
    "count_train = count_vectorizer.fit_transform(X_train)\n",
    "\n",
    "count_news = count_vectorizer.transform([news])\n",
    "\n",
    "count_news.resize((1,167854))\n",
    "\n",
    "\n",
    "def detecting_fake_news(count_news):\n",
    "    \n",
    "   \n",
    "# Function to run for prediction\n",
    "\n",
    "    \n",
    "#reetrieving the best model for prediction call\n",
    "    load_model = pickle.load(open('final_model.sav', 'rb'))\n",
    "    prediction = load_model.predict(count_news)\n",
    "    \n",
    "    \n",
    "    prob = load_model.predict_proba(count_news)\n",
    "    \n",
    "    print(prediction)\n",
    "    \n",
    "\n",
    "\n",
    "    return (print(\"The given statement is \",prediction[0]),print(\"The truth probability score is \",prob[0][1]))\n",
    "\n",
    "\n",
    "\n",
    "detecting_fake_news(count_news)"
   ]
  },
  {
   "cell_type": "code",
   "execution_count": null,
   "metadata": {},
   "outputs": [],
   "source": []
  }
 ],
 "metadata": {
  "kernelspec": {
   "display_name": "Python 3",
   "language": "python",
   "name": "python3"
  },
  "language_info": {
   "codemirror_mode": {
    "name": "ipython",
    "version": 3
   },
   "file_extension": ".py",
   "mimetype": "text/x-python",
   "name": "python",
   "nbconvert_exporter": "python",
   "pygments_lexer": "ipython3",
   "version": "3.7.3"
  }
 },
 "nbformat": 4,
 "nbformat_minor": 2
}
