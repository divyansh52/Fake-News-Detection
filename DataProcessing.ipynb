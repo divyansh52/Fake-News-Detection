{
 "cells": [
  {
   "cell_type": "code",
   "execution_count": 1,
   "metadata": {},
   "outputs": [],
   "source": [
    "import pandas as pd"
   ]
  },
  {
   "cell_type": "code",
   "execution_count": 2,
   "metadata": {},
   "outputs": [],
   "source": [
    "df = pd.read_csv(\"Real_and_Fake_News_Dataset\")"
   ]
  },
  {
   "cell_type": "code",
   "execution_count": 4,
   "metadata": {},
   "outputs": [
    {
     "data": {
      "text/plain": [
       "<matplotlib.axes._subplots.AxesSubplot at 0x218433c45c8>"
      ]
     },
     "execution_count": 4,
     "metadata": {},
     "output_type": "execute_result"
    },
    {
     "data": {
      "image/png": "[encoded data removed]",
      "text/plain": [
       "<Figure size 432x288 with 1 Axes>"
      ]
     },
     "metadata": {
      "needs_background": "light"
     },
     "output_type": "display_data"
    }
   ],
   "source": [
    "#Create a distribution of labels in dataframe\n",
    "\n",
    "import seaborn as sb\n",
    "\n",
    "def create_distribution(dataFile):\n",
    "    return sb.countplot(x='label', data=dataFile, palette='hls')\n",
    "\n",
    "create_distribution(df)"
   ]
  },
  {
   "cell_type": "code",
   "execution_count": 5,
   "metadata": {},
   "outputs": [
    {
     "name": "stdout",
     "output_type": "stream",
     "text": [
      "Checking data qualitites...\n",
      "<class 'pandas.core.frame.DataFrame'>\n",
      "RangeIndex: 28711 entries, 0 to 28710\n",
      "Data columns (total 3 columns):\n",
      "Unnamed: 0    28711 non-null int64\n",
      "content       28665 non-null object\n",
      "label         28711 non-null object\n",
      "dtypes: int64(1), object(2)\n",
      "memory usage: 673.0+ KB\n",
      "check finished.\n"
     ]
    }
   ],
   "source": [
    "# Check the data qualtiy to see whether it contains any null values\n",
    "\n",
    "def data_qualityCheck():\n",
    "    \n",
    "    print(\"Checking data qualitites...\")\n",
    "    df.isnull().sum() # To check whether a row contains null values or not\n",
    "    df.info()\n",
    "        \n",
    "    print(\"check finished.\")\n",
    "\n",
    "data_qualityCheck()"
   ]
  },
  {
   "cell_type": "code",
   "execution_count": 6,
   "metadata": {},
   "outputs": [
    {
     "name": "stdout",
     "output_type": "stream",
     "text": [
      "(28665, 3)\n"
     ]
    }
   ],
   "source": [
    "# The content column contains null values, so first we have to clean the data\n",
    "\n",
    "df.dropna(subset = [\"content\"], inplace=True) # Drops the rows having null data\n",
    "print(df.shape)"
   ]
  },
  {
   "cell_type": "code",
   "execution_count": 7,
   "metadata": {},
   "outputs": [],
   "source": [
    "# To remove stop words and convert all data into lower case\n",
    "\n",
    "import re\n",
    "import string\n",
    "import pandas as pd\n",
    "from nltk.corpus import stopwords\n",
    "\n",
    "\n",
    "def textClean(text):\n",
    "    text = re.sub(r\"[^A-Za-z0-9^,!.\\/'+-=]\", \" \", text)\n",
    "    text = text.lower().split()\n",
    "    stops = set(stopwords.words(\"english\"))\n",
    "    text = [w for w in text if not w in stops]\n",
    "    text = \" \".join(text)\n",
    "    return (text)\n"
   ]
  },
  {
   "cell_type": "code",
   "execution_count": 8,
   "metadata": {},
   "outputs": [],
   "source": [
    "def cleanup(text):\n",
    "    text = textClean(text)\n",
    "    text = text.translate(str.maketrans(\"\", \"\", string.punctuation))\n",
    "    return text"
   ]
  },
  {
   "cell_type": "code",
   "execution_count": 9,
   "metadata": {},
   "outputs": [],
   "source": [
    "for ind in df.index:\n",
    "    df.loc[ind, \"content\"] = cleanup(df.loc[ind,\"content\"])"
   ]
  },
  {
   "cell_type": "code",
   "execution_count": 10,
   "metadata": {},
   "outputs": [
    {
     "name": "stdout",
     "output_type": "stream",
     "text": [
      "   Unnamed: 0                                            content label\n",
      "0           0  politics donald trump republican candidate us ...  fake\n",
      "1           1  comment melania trump may made homeland famous...  fake\n",
      "2           2  vehicle shielded metal plates driven suicide a...  real\n",
      "3           3  3 16  ap  1918 1919    1921   1926     pravdar...  fake\n",
      "4           4  american food reputation bland but according h...  real\n"
     ]
    }
   ],
   "source": [
    "print(df.head())"
   ]
  },
  {
   "cell_type": "code",
   "execution_count": 11,
   "metadata": {},
   "outputs": [
    {
     "name": "stdout",
     "output_type": "stream",
     "text": [
      "       Unnamed: 0                                            content label\n",
      "0               0  politics donald trump republican candidate us ...  fake\n",
      "1               1  comment melania trump may made homeland famous...  fake\n",
      "2               2  vehicle shielded metal plates driven suicide a...  real\n",
      "3               3  3 16  ap  1918 1919    1921   1926     pravdar...  fake\n",
      "4               4  american food reputation bland but according h...  real\n",
      "...           ...                                                ...   ...\n",
      "28706       28706  0 comments read correctly ugly truth sending b...  fake\n",
      "28707       28707  since may 1 shortly donald trump clinched repu...  real\n",
      "28708       28708  want get briefing email  good evening latest 1...  real\n",
      "28709       28709  posted november 7 2016 lawrence davidson might...  fake\n",
      "28710       28710  infatuated boy age 12 weeks ago three years ol...  real\n",
      "\n",
      "[28665 rows x 3 columns]\n"
     ]
    }
   ],
   "source": [
    "print(df)"
   ]
  },
  {
   "cell_type": "code",
   "execution_count": 12,
   "metadata": {},
   "outputs": [
    {
     "name": "stdout",
     "output_type": "stream",
     "text": [
      "       Unnamed: 0                                            content label\n",
      "28706       28706  0 comments read correctly ugly truth sending b...  fake\n",
      "28707       28707  since may 1 shortly donald trump clinched repu...  real\n",
      "28708       28708  want get briefing email  good evening latest 1...  real\n",
      "28709       28709  posted november 7 2016 lawrence davidson might...  fake\n",
      "28710       28710  infatuated boy age 12 weeks ago three years ol...  real\n"
     ]
    }
   ],
   "source": [
    "print(df.tail())"
   ]
  },
  {
   "cell_type": "code",
   "execution_count": 13,
   "metadata": {},
   "outputs": [],
   "source": [
    "from sklearn.model_selection import train_test_split\n",
    "from sklearn.feature_extraction.text import CountVectorizer\n",
    "from sklearn.feature_extraction.text import TfidfVectorizer\n",
    "from sklearn import metrics\n",
    "from sklearn.naive_bayes import MultinomialNB\n",
    "from sklearn.linear_model import  LogisticRegression\n",
    "from sklearn.linear_model import SGDClassifier\n",
    "from sklearn import svm\n",
    "from sklearn.ensemble import RandomForestClassifier\n",
    "import matplotlib.pyplot as plt\n",
    "from sklearn.metrics import precision_recall_curve\n",
    "from sklearn.metrics import average_precision_score\n",
    "import seaborn as sns"
   ]
  },
  {
   "cell_type": "code",
   "execution_count": 14,
   "metadata": {},
   "outputs": [
    {
     "name": "stdout",
     "output_type": "stream",
     "text": [
      "0        politics donald trump republican candidate us ...\n",
      "1        comment melania trump may made homeland famous...\n",
      "2        vehicle shielded metal plates driven suicide a...\n",
      "3        3 16  ap  1918 1919    1921   1926     pravdar...\n",
      "4        american food reputation bland but according h...\n",
      "                               ...                        \n",
      "28706    0 comments read correctly ugly truth sending b...\n",
      "28707    since may 1 shortly donald trump clinched repu...\n",
      "28708    want get briefing email  good evening latest 1...\n",
      "28709    posted november 7 2016 lawrence davidson might...\n",
      "28710    infatuated boy age 12 weeks ago three years ol...\n",
      "Name: content, Length: 28665, dtype: object\n",
      "0        fake\n",
      "1        fake\n",
      "2        real\n",
      "3        fake\n",
      "4        real\n",
      "         ... \n",
      "28706    fake\n",
      "28707    real\n",
      "28708    real\n",
      "28709    fake\n",
      "28710    real\n",
      "Name: label, Length: 28665, dtype: object\n"
     ]
    }
   ],
   "source": [
    "print(df['content'])\n",
    "print(df['label'])"
   ]
  },
  {
   "cell_type": "code",
   "execution_count": 15,
   "metadata": {},
   "outputs": [
    {
     "name": "stdout",
     "output_type": "stream",
     "text": [
      "['00', '000', '0000', '00001400', '000025', '00004', '0001', '00013', '0004', '0004s']\n",
      "(20065, 167854)\n"
     ]
    }
   ],
   "source": [
    "# Create a series to store the labels: y\n",
    "y = df.label\n",
    "\n",
    "# Create training and test sets\n",
    "X_train, X_test, y_train, y_test = train_test_split(df['content'],y,test_size = 0.30)\n",
    "\n",
    "# Initialize a CountVectorizer object: count_vectorizer\n",
    "count_vectorizer = CountVectorizer(stop_words=\"english\")\n",
    "\n",
    "# Transform the training data using only the 'text' column values: count_train \n",
    "count_train = count_vectorizer.fit_transform(X_train.values)\n",
    "\n",
    "# Transform the test data using only the 'text' column values: count_test \n",
    "count_test = count_vectorizer.transform(X_test)\n",
    "\n",
    "# Print the first 10 features of the count_vectorizer\n",
    "print(count_vectorizer.get_feature_names()[:10])\n",
    "print(count_train.shape)"
   ]
  },
  {
   "cell_type": "code",
   "execution_count": 16,
   "metadata": {},
   "outputs": [
    {
     "name": "stdout",
     "output_type": "stream",
     "text": [
      "['00', '000', '0000', '00001400', '000025', '00004', '0001', '00013', '0004', '0004s']\n",
      "(20065, 167854)\n"
     ]
    }
   ],
   "source": [
    "# Initialize a TfidfVectorizer object: tfidf_vectorizer\n",
    "tfidf_vectorizer = TfidfVectorizer(stop_words='english',max_df=0.7)\n",
    "\n",
    "# Transform the training data: tfidf_train \n",
    "tfidf_train = tfidf_vectorizer.fit_transform(X_train.values)\n",
    "\n",
    "# Transform the test data: tfidf_test \n",
    "tfidf_test = tfidf_vectorizer.transform(X_test)\n",
    "\n",
    "# Print the first 10 features\n",
    "print(tfidf_vectorizer.get_feature_names()[:10])\n",
    "\n",
    "print(tfidf_train.shape)"
   ]
  },
  {
   "cell_type": "code",
   "execution_count": 17,
   "metadata": {},
   "outputs": [
    {
     "name": "stdout",
     "output_type": "stream",
     "text": [
      "Testing accuracy for Naive Bayes is :0.8732558139534884\n",
      "[[2982  886]\n",
      " [ 204 4528]]\n"
     ]
    }
   ],
   "source": [
    "# Instantiate a Multinomial Naive Bayes classifier: nb_classifier\n",
    "\n",
    "test_accuracy_for_count_vectorizer = []\n",
    "models=[]\n",
    "\n",
    "nb_classifier = MultinomialNB()\n",
    "\n",
    "# Fit the classifier to the training data\n",
    "nb_classifier.fit(count_train,y_train)\n",
    "\n",
    "# Create the predicted tags: pred\n",
    "pred_nb = nb_classifier.predict(count_test)\n",
    "\n",
    "# Calculate the accuracy score: score\n",
    "score = metrics.accuracy_score(y_test,pred_nb)\n",
    "print(\"Testing accuracy for Naive Bayes is :\"+str(score))\n",
    "\n",
    "test_accuracy_for_count_vectorizer.append(score)\n",
    "models.append(\"Naive Bayes\")\n",
    "\n",
    "# Calculate the confusion matrix: cm\n",
    "cm = metrics.confusion_matrix(y_test, pred_nb)\n",
    "print(cm)\n",
    "\n"
   ]
  },
  {
   "cell_type": "code",
   "execution_count": 25,
   "metadata": {},
   "outputs": [
    {
     "data": {
      "image/png": "[encoded data removed]",
      "text/plain": [
       "<Figure size 288x288 with 2 Axes>"
      ]
     },
     "metadata": {
      "needs_background": "light"
     },
     "output_type": "display_data"
    }
   ],
   "source": [
    "import numpy as np\n",
    "\n",
    "\n",
    "conf_matrix = metrics.confusion_matrix(y_test, pred_nb)\n",
    "\n",
    "plt.figure(figsize=(4,4))\n",
    "\n",
    "group_names = [\"True Neg\",\"False Pos\",\"False Neg\",\"True Pos\"]\n",
    "               \n",
    "group_counts = [\"{0:0.0f}\".format(value) for value in conf_matrix.flatten()]\n",
    "\n",
    "labels = [f\"{v1}\\n{v2}\" for v1, v2 in zip(group_names,group_counts)]\n",
    "LABELS = np.asarray(labels).reshape(2,2)\n",
    "\n",
    "\n",
    "\n",
    "sns.heatmap(conf_matrix, annot=LABELS, fmt='', cmap='Blues')\n",
    "\n",
    "plt.title(\"Confusion matrix for Naive Bayes\")\n",
    "plt.ylabel('True class')\n",
    "plt.xlabel('Predicted class')\n",
    "b, t = plt.ylim()\n",
    "b += 0.5 \n",
    "t -= 0.5 \n",
    "plt.ylim(b, t) \n",
    "plt.show()\n",
    "plt.show()\n"
   ]
  },
  {
   "cell_type": "code",
   "execution_count": 26,
   "metadata": {},
   "outputs": [
    {
     "name": "stdout",
     "output_type": "stream",
     "text": [
      "Testing accuracy of Logistic Regressions is :0.9351162790697675\n",
      "[[3596  272]\n",
      " [ 286 4446]]\n"
     ]
    },
    {
     "name": "stderr",
     "output_type": "stream",
     "text": [
      "C:\\Users\\sriva\\Anaconda3\\envs\\mlenvs\\lib\\site-packages\\sklearn\\linear_model\\_logistic.py:940: ConvergenceWarning: lbfgs failed to converge (status=1):\n",
      "STOP: TOTAL NO. of ITERATIONS REACHED LIMIT.\n",
      "\n",
      "Increase the number of iterations (max_iter) or scale the data as shown in:\n",
      "    https://scikit-learn.org/stable/modules/preprocessing.html\n",
      "Please also refer to the documentation for alternative solver options:\n",
      "    https://scikit-learn.org/stable/modules/linear_model.html#logistic-regression\n",
      "  extra_warning_msg=_LOGISTIC_SOLVER_CONVERGENCE_MSG)\n"
     ]
    }
   ],
   "source": [
    "logr_classifier = LogisticRegression()\n",
    "\n",
    "# Fit the classifier to the training data\n",
    "logr_classifier.fit(count_train,y_train)\n",
    "\n",
    "# Create the predicted tags: pred\n",
    "predicted_logr= logr_classifier.predict(count_test)\n",
    "\n",
    "# Calculate the accuracy score: score\n",
    "score = metrics.accuracy_score(y_test, predicted_logr)\n",
    "print(\"Testing accuracy of Logistic Regressions is :\"+str(score))\n",
    "\n",
    "test_accuracy_for_count_vectorizer.append(score)\n",
    "models.append(\"Logistic Regression\")\n",
    "\n",
    "# Calculate the confusion matrix: cm\n",
    "cm = metrics.confusion_matrix(y_test,predicted_logr)\n",
    "print(cm)"
   ]
  },
  {
   "cell_type": "code",
   "execution_count": 28,
   "metadata": {},
   "outputs": [
    {
     "data": {
      "image/png": "[encoded data removed]",
      "text/plain": [
       "<Figure size 288x288 with 2 Axes>"
      ]
     },
     "metadata": {
      "needs_background": "light"
     },
     "output_type": "display_data"
    }
   ],
   "source": [
    "conf_matrix = metrics.confusion_matrix(y_test, predicted_logr)\n",
    "\n",
    "plt.figure(figsize=(4,4))\n",
    "\n",
    "group_names = [\"True Neg\",\"False Pos\",\"False Neg\",\"True Pos\"]\n",
    "               \n",
    "group_counts = [\"{0:0.0f}\".format(value) for value in conf_matrix.flatten()]\n",
    "\n",
    "labels = [f\"{v1}\\n{v2}\" for v1, v2 in zip(group_names,group_counts)]\n",
    "LABELS = np.asarray(labels).reshape(2,2)\n",
    "\n",
    "\n",
    "\n",
    "sns.heatmap(conf_matrix, annot=LABELS, fmt='', cmap='Blues')\n",
    "\n",
    "plt.title(\"Confusion matrix for Logistic Regression\")\n",
    "plt.ylabel('True class')\n",
    "plt.xlabel('Predicted class')\n",
    "b, t = plt.ylim()\n",
    "b += 0.5 \n",
    "t -= 0.5 \n",
    "plt.ylim(b, t) \n",
    "plt.show()\n",
    "plt.show()\n"
   ]
  },
  {
   "cell_type": "code",
   "execution_count": 29,
   "metadata": {},
   "outputs": [
    {
     "name": "stdout",
     "output_type": "stream",
     "text": [
      "Testing accuracy of Random Forest :0.8674418604651163\n",
      "[[3019  849]\n",
      " [ 291 4441]]\n"
     ]
    }
   ],
   "source": [
    "\n",
    "# Create a Random Forest classifier: rf_classifier\n",
    "rf_classifier = RandomForestClassifier()\n",
    "\n",
    "# Fit the classifier to the training data\n",
    "rf_classifier.fit(count_train,y_train)\n",
    "\n",
    "# Create the predicted tags: pred\n",
    "predicted_rf= rf_classifier.predict(count_test)\n",
    "\n",
    "# Calculate the accuracy score: score\n",
    "score = metrics.accuracy_score(y_test, predicted_rf)\n",
    "print(\"Testing accuracy of Random Forest :\"+str(score))\n",
    "\n",
    "test_accuracy_for_count_vectorizer.append(score)\n",
    "models.append(\"Random Forest\")\n",
    "\n",
    "# Calculate the confusion matrix: cm\n",
    "cm = metrics.confusion_matrix(y_test,predicted_rf)\n",
    "print(cm)\n"
   ]
  },
  {
   "cell_type": "code",
   "execution_count": 30,
   "metadata": {},
   "outputs": [
    {
     "data": {
      "image/png": "[encoded data removed]",
      "text/plain": [
       "<Figure size 288x288 with 2 Axes>"
      ]
     },
     "metadata": {
      "needs_background": "light"
     },
     "output_type": "display_data"
    }
   ],
   "source": [
    "conf_matrix = metrics.confusion_matrix(y_test, predicted_rf)\n",
    "\n",
    "plt.figure(figsize=(4,4))\n",
    "\n",
    "group_names = [\"True Neg\",\"False Pos\",\"False Neg\",\"True Pos\"]\n",
    "               \n",
    "group_counts = [\"{0:0.0f}\".format(value) for value in conf_matrix.flatten()]\n",
    "\n",
    "labels = [f\"{v1}\\n{v2}\" for v1, v2 in zip(group_names,group_counts)]\n",
    "LABELS = np.asarray(labels).reshape(2,2)\n",
    "\n",
    "\n",
    "\n",
    "sns.heatmap(conf_matrix, annot=LABELS, fmt='', cmap='Blues')\n",
    "\n",
    "plt.title(\"Confusion matrix for Random Forest\")\n",
    "plt.ylabel('True class')\n",
    "plt.xlabel('Predicted class')\n",
    "b, t = plt.ylim()\n",
    "b += 0.5 \n",
    "t -= 0.5 \n",
    "plt.ylim(b, t) \n",
    "plt.show()\n",
    "plt.show()\n"
   ]
  },
  {
   "cell_type": "code",
   "execution_count": 31,
   "metadata": {},
   "outputs": [
    {
     "data": {
      "image/png": "[encoded data removed]",
      "text/plain": [
       "<Figure size 432x288 with 1 Axes>"
      ]
     },
     "metadata": {
      "needs_background": "light"
     },
     "output_type": "display_data"
    }
   ],
   "source": [
    "import matplotlib.pyplot as plt\n",
    "\n",
    "plt.title(\"Testing Accuracy v/s Model for Count Vectorizer\")\n",
    "plt.xlabel(\"Model\")\n",
    "plt.ylabel(\"Accuracy\")\n",
    "plt.bar(models,test_accuracy_for_count_vectorizer,color='red')\n",
    "plt.show()"
   ]
  },
  {
   "cell_type": "code",
   "execution_count": 32,
   "metadata": {},
   "outputs": [
    {
     "name": "stdout",
     "output_type": "stream",
     "text": [
      "Testing accuracy for Naive Bayes is :0.7009302325581396\n",
      "[[1300 2568]\n",
      " [   4 4728]]\n"
     ]
    }
   ],
   "source": [
    "# Instantiate a Multinomial Naive Bayes classifier: nb_classifier_tfidf\n",
    "\n",
    "test_accuracy_for_tfidf_vectorizer = []\n",
    "\n",
    "\n",
    "nb_classifier_tfidf = MultinomialNB()\n",
    "\n",
    "# Fit the classifier to the training data\n",
    "nb_classifier_tfidf.fit(tfidf_train,y_train)\n",
    "\n",
    "# Create the predicted tags: pred\n",
    "pred_nb_tfidf = nb_classifier_tfidf.predict(tfidf_test)\n",
    "\n",
    "# Calculate the accuracy score: score\n",
    "score = metrics.accuracy_score(y_test,pred_nb_tfidf)\n",
    "print(\"Testing accuracy for Naive Bayes is :\"+str(score))\n",
    "\n",
    "test_accuracy_for_tfidf_vectorizer.append(score)\n",
    "\n",
    "# Calculate the confusion matrix: cm\n",
    "cm = metrics.confusion_matrix(y_test, pred_nb_tfidf)\n",
    "print(cm)\n",
    "\n"
   ]
  },
  {
   "cell_type": "code",
   "execution_count": 33,
   "metadata": {},
   "outputs": [
    {
     "data": {
      "image/png": "[encoded data removed]",
      "text/plain": [
       "<Figure size 288x288 with 2 Axes>"
      ]
     },
     "metadata": {
      "needs_background": "light"
     },
     "output_type": "display_data"
    }
   ],
   "source": [
    "conf_matrix = metrics.confusion_matrix(y_test, pred_nb_tfidf)\n",
    "\n",
    "plt.figure(figsize=(4,4))\n",
    "\n",
    "group_names = [\"True Neg\",\"False Pos\",\"False Neg\",\"True Pos\"]\n",
    "               \n",
    "group_counts = [\"{0:0.0f}\".format(value) for value in conf_matrix.flatten()]\n",
    "\n",
    "labels = [f\"{v1}\\n{v2}\" for v1, v2 in zip(group_names,group_counts)]\n",
    "LABELS = np.asarray(labels).reshape(2,2)\n",
    "\n",
    "\n",
    "\n",
    "sns.heatmap(conf_matrix, annot=LABELS, fmt='', cmap='Blues')\n",
    "\n",
    "plt.title(\"Confusion matrix for Naive Bayes\")\n",
    "plt.ylabel('True class')\n",
    "plt.xlabel('Predicted class')\n",
    "b, t = plt.ylim()\n",
    "b += 0.5 \n",
    "t -= 0.5 \n",
    "plt.ylim(b, t) \n",
    "plt.show()\n",
    "plt.show()\n"
   ]
  },
  {
   "cell_type": "code",
   "execution_count": 34,
   "metadata": {},
   "outputs": [
    {
     "name": "stdout",
     "output_type": "stream",
     "text": [
      "Testing accuracy of Logistic Regressions is :0.9268604651162791\n",
      "[[3499  369]\n",
      " [ 260 4472]]\n"
     ]
    }
   ],
   "source": [
    "#Train the Logistic Regression classifier\n",
    "\n",
    "logr_classifier_tfidf = LogisticRegression()\n",
    "\n",
    "# Fit the classifier to the training data\n",
    "logr_classifier_tfidf.fit(tfidf_train,y_train)\n",
    "\n",
    "# Create the predicted tags: pred\n",
    "predicted_logr_tfidf= logr_classifier_tfidf.predict(tfidf_test)\n",
    "\n",
    "# Calculate the accuracy score: score\n",
    "score = metrics.accuracy_score(y_test, predicted_logr_tfidf)\n",
    "print(\"Testing accuracy of Logistic Regressions is :\"+str(score))\n",
    "\n",
    "test_accuracy_for_tfidf_vectorizer.append(score)\n",
    "\n",
    "\n",
    "# Calculate the confusion matrix: cm\n",
    "cm = metrics.confusion_matrix(y_test,predicted_logr_tfidf)\n",
    "print(cm)"
   ]
  },
  {
   "cell_type": "code",
   "execution_count": 35,
   "metadata": {},
   "outputs": [
    {
     "data": {
      "image/png": "[encoded data removed]",
      "text/plain": [
       "<Figure size 288x288 with 2 Axes>"
      ]
     },
     "metadata": {
      "needs_background": "light"
     },
     "output_type": "display_data"
    }
   ],
   "source": [
    "conf_matrix = metrics.confusion_matrix(y_test, predicted_logr_tfidf)\n",
    "\n",
    "plt.figure(figsize=(4,4))\n",
    "\n",
    "group_names = [\"True Neg\",\"False Pos\",\"False Neg\",\"True Pos\"]\n",
    "               \n",
    "group_counts = [\"{0:0.0f}\".format(value) for value in conf_matrix.flatten()]\n",
    "\n",
    "labels = [f\"{v1}\\n{v2}\" for v1, v2 in zip(group_names,group_counts)]\n",
    "LABELS = np.asarray(labels).reshape(2,2)\n",
    "\n",
    "\n",
    "\n",
    "sns.heatmap(conf_matrix, annot=LABELS, fmt='', cmap='Blues')\n",
    "\n",
    "plt.title(\"Confusion matrix for Logistic Regression\")\n",
    "plt.ylabel('True class')\n",
    "plt.xlabel('Predicted class')\n",
    "b, t = plt.ylim()\n",
    "b += 0.5 \n",
    "t -= 0.5 \n",
    "plt.ylim(b, t) \n",
    "plt.show()\n",
    "plt.show()\n"
   ]
  },
  {
   "cell_type": "code",
   "execution_count": 36,
   "metadata": {},
   "outputs": [
    {
     "name": "stdout",
     "output_type": "stream",
     "text": [
      "Testing accuracy of Random Forest :0.8715116279069768\n",
      "[[3035  833]\n",
      " [ 272 4460]]\n"
     ]
    }
   ],
   "source": [
    "# Create a Random Forest classifier: rf_classifier\n",
    "rf_classifier_tfidf = RandomForestClassifier()\n",
    "\n",
    "# Fit the classifier to the training data\n",
    "rf_classifier_tfidf.fit(tfidf_train,y_train)\n",
    "\n",
    "# Create the predicted tags: pred\n",
    "predicted_rf_tfidf= rf_classifier_tfidf.predict(tfidf_test)\n",
    "\n",
    "# Calculate the accuracy score: score\n",
    "score = metrics.accuracy_score(y_test, predicted_rf_tfidf)\n",
    "print(\"Testing accuracy of Random Forest :\"+str(score))\n",
    "\n",
    "test_accuracy_for_tfidf_vectorizer.append(score)\n",
    "\n",
    "# Calculate the confusion matrix: cm\n",
    "cm = metrics.confusion_matrix(y_test,predicted_rf_tfidf)\n",
    "print(cm)\n"
   ]
  },
  {
   "cell_type": "code",
   "execution_count": 37,
   "metadata": {},
   "outputs": [
    {
     "data": {
      "image/png": "[encoded data removed]",
      "text/plain": [
       "<Figure size 288x288 with 2 Axes>"
      ]
     },
     "metadata": {
      "needs_background": "light"
     },
     "output_type": "display_data"
    }
   ],
   "source": [
    "conf_matrix = metrics.confusion_matrix(y_test, predicted_rf_tfidf)\n",
    "\n",
    "plt.figure(figsize=(4,4))\n",
    "\n",
    "group_names = [\"True Neg\",\"False Pos\",\"False Neg\",\"True Pos\"]\n",
    "               \n",
    "group_counts = [\"{0:0.0f}\".format(value) for value in conf_matrix.flatten()]\n",
    "\n",
    "labels = [f\"{v1}\\n{v2}\" for v1, v2 in zip(group_names,group_counts)]\n",
    "LABELS = np.asarray(labels).reshape(2,2)\n",
    "\n",
    "\n",
    "\n",
    "sns.heatmap(conf_matrix, annot=LABELS, fmt='', cmap='Blues')\n",
    "\n",
    "plt.title(\"Confusion matrix for Random Forest\")\n",
    "plt.ylabel('True class')\n",
    "plt.xlabel('Predicted class')\n",
    "b, t = plt.ylim()\n",
    "b += 0.5 \n",
    "t -= 0.5 \n",
    "plt.ylim(b, t) \n",
    "plt.show()\n",
    "plt.show()\n"
   ]
  },
  {
   "cell_type": "code",
   "execution_count": 38,
   "metadata": {},
   "outputs": [
    {
     "data": {
      "image/png": "[encoded data removed]",
      "text/plain": [
       "<Figure size 432x288 with 1 Axes>"
      ]
     },
     "metadata": {
      "needs_background": "light"
     },
     "output_type": "display_data"
    }
   ],
   "source": [
    "plt.title(\"Testing Accuracy v/s Model for Tf-idf Vectorizer\")\n",
    "plt.xlabel(\"Model\")\n",
    "plt.ylabel(\"Accuracy\")\n",
    "plt.bar(models,test_accuracy_for_tfidf_vectorizer,color='red')\n",
    "plt.show()"
   ]
  },
  {
   "cell_type": "code",
   "execution_count": 40,
   "metadata": {},
   "outputs": [],
   "source": [
    "# Save the best model\n",
    "\n",
    "import pickle\n",
    "model_file = 'final_model.sav'\n",
    "pickle.dump(logr_classifier,open(model_file,'wb'))"
   ]
  },
  {
   "cell_type": "code",
   "execution_count": null,
   "metadata": {},
   "outputs": [],
   "source": []
  }
 ],
 "metadata": {
  "kernelspec": {
   "display_name": "Python 3",
   "language": "python",
   "name": "python3"
  },
  "language_info": {
   "codemirror_mode": {
    "name": "ipython",
    "version": 3
   },
   "file_extension": ".py",
   "mimetype": "text/x-python",
   "name": "python",
   "nbconvert_exporter": "python",
   "pygments_lexer": "ipython3",
   "version": "3.7.3"
  }
 },
 "nbformat": 4,
 "nbformat_minor": 2
}
